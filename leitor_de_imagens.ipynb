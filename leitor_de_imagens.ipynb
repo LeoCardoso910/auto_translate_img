{
 "cells": [
  {
   "cell_type": "code",
   "execution_count": 1,
   "metadata": {},
   "outputs": [],
   "source": [
    "from PIL import Image\n",
    "import pytesseract\n",
    "from googletrans import Translator"
   ]
  },
  {
   "cell_type": "code",
   "execution_count": 4,
   "metadata": {},
   "outputs": [],
   "source": [
    "pytesseract.pytesseract.tesseract_cmd = r'C:\\Program Files\\Tesseract-OCR\\tesseract.exe'\n",
    "\n",
    "\n",
    "def extrair_texto_da_imagem(caminho):\n",
    "    imagem = Image.open(caminho)\n",
    "    texto = pytesseract.image_to_string(imagem)\n",
    "    return texto\n",
    "\n",
    "def traduzir(texto, idioma_destino):\n",
    "    tradutor = Translator()\n",
    "    traducao = tradutor.translate(texto, dest=idioma_destino)\n",
    "    return traducao.text\n"
   ]
  },
  {
   "cell_type": "code",
   "execution_count": 10,
   "metadata": {},
   "outputs": [
    {
     "name": "stdout",
     "output_type": "stream",
     "text": [
      "Texto traduzido: Este pacote contém um mecanismo OCR - LIBTESSERACT e um programa de linha de comando - TESSERACT.\n",
      "\n",
      "O TESSERACT 4 adiciona um novo mecanismo OCR baseado em rede neural (LSTM), que está focado no reconhecimento de linhas, mas também ainda\n",
      "Suporta o mecanismo Legacy Tesseract OCR do Tesseract 3, que funciona reconhecendo os padrões de caracteres.Compatibilidade\n",
      "Com o TESSERACT 3, é ativado usando o modo Legacy OCR Engine (--oem 0).Também precisa de arquivos treinos de dados que\n",
      "Apoie o mecanismo herdado, por exemplo, aqueles do repositório TessData.\n",
      "\n",
      "Stefan Weil é o atual desenvolvedor principal.Ray Smith foi o principal desenvolvedor até 2018. O mantenedor é Zdenko\n",
      "Podobny.Para uma lista de colaboradores, consulte os autores e o registro de colaboradores do Github.\n",
      "\n",
      "O TESSERACT possui suporte Unicode (UTF-8) e pode reconhecer mais de 100 idiomas \"prontos para a caixa\".\n",
      "O TESSERACT suporta vários formatos de imagem, incluindo PNG, JPEG e TIFF.\n",
      "\n",
      "O TESSERACT suporta vários formatos de saída: texto simples, hocr (html), pdf, pdf apenas de texto invisível, tsv, alto e\n",
      "PÁGINA.\n",
      "\n",
      "Você deve observar que, em muitos casos, para obter melhores resultados de OCR, você precisará melhorar a qualidade do\n",
      "\n",
      "imagem que você está dando tesseract.\n"
     ]
    }
   ],
   "source": [
    "caminho = \"imagens/Captura de tela 2024-09-17 153011.png\"\n",
    "\n",
    "texto = extrair_texto_da_imagem(caminho)\n",
    "#print(f\"Texto extraido:{texto}\")\n",
    "\n",
    "texto_traduzido = traduzir(texto, idioma_destino='pt')\n",
    "print(f\"Texto traduzido: {texto_traduzido}\")"
   ]
  }
 ],
 "metadata": {
  "kernelspec": {
   "display_name": "Python 3",
   "language": "python",
   "name": "python3"
  },
  "language_info": {
   "codemirror_mode": {
    "name": "ipython",
    "version": 3
   },
   "file_extension": ".py",
   "mimetype": "text/x-python",
   "name": "python",
   "nbconvert_exporter": "python",
   "pygments_lexer": "ipython3",
   "version": "3.11.8"
  }
 },
 "nbformat": 4,
 "nbformat_minor": 2
}
